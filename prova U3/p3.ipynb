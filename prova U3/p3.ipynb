{
 "cells": [
  {
   "cell_type": "code",
   "execution_count": 1260,
   "metadata": {},
   "outputs": [],
   "source": [
    "import random as rnd\n",
    "import numpy as np\n",
    "from typing import Callable"
   ]
  },
  {
   "cell_type": "code",
   "execution_count": 1261,
   "metadata": {},
   "outputs": [],
   "source": [
    "# definição do material genético. Os dois genes são as coordenadas no espaço R^2\n",
    "class Genoma:\n",
    "    def __init__(self, coord:tuple[float, float]):\n",
    "        self.x = coord[0]\n",
    "        self.y = coord[1]\n",
    "    def setCoords(self, coord:tuple[float, float]):\n",
    "        self.x = coord[0]\n",
    "        self.y = coord[1]"
   ]
  },
  {
   "cell_type": "code",
   "execution_count": 1262,
   "metadata": {},
   "outputs": [],
   "source": [
    "# gero uma população com \"n\" indivíduos aleatórios no espaço x_space[0] <= x< <= x_space[1] e y_space[0] <= y <= y_space[1]\n",
    "def gerar_populacao(n:int, x_space:tuple[float, float], y_space:tuple[float, float]) -> list[Genoma]:\n",
    "    return [Genoma((                                     # criarei um genoma com:\n",
    "                    rnd.uniform(x_space[0], x_space[1]), # uma coordenada x aleatória\n",
    "                    rnd.uniform(y_space[0], y_space[1])  # uma coordenada y aleatória\n",
    "                  )) for i in range(n)]                  # n vezes."
   ]
  },
  {
   "cell_type": "code",
   "execution_count": 1263,
   "metadata": {},
   "outputs": [],
   "source": [
    "def cruz_troca(g1:Genoma, g2:Genoma) -> tuple[Genoma,Genoma]:\n",
    "    G1 = Genoma((g1.x, g1.y))\n",
    "    G2 = Genoma((g2.x, g2.y))\n",
    "    if rnd.randint(0, 1) == 0:\n",
    "        temp = G1.x\n",
    "        G1.x = G2.x\n",
    "        G2.x = temp\n",
    "    else:\n",
    "        temp = G1.y\n",
    "        G1.y = G2.y\n",
    "        G2.y = temp\n",
    "    return (G1, G2) # o retorno são dois genomas com as coordenadas x trocadas ou coordenada y trocadas.\n",
    "\n",
    "def cruz_aprox(g1:Genoma, g2:Genoma) -> tuple[Genoma,Genoma]:\n",
    "    G1 = Genoma((g1.x, g1.y))\n",
    "    G2 = Genoma((g2.x, g2.y))\n",
    "    G1.x = (G2.x - G1.x)/3 + G1.x\n",
    "    G2.x = (G1.x - G2.x)/3 + G2.x\n",
    "    G1.y = (G2.y - G1.y)/3 + G1.y\n",
    "    G2.y = (G1.y - G2.y)/3 + G2.y\n",
    "    return (G1, G2) # o retorno são dois genomas que se aproximam na direção um do outro por 1/3 da distância original entre eles."
   ]
  },
  {
   "cell_type": "code",
   "execution_count": 1264,
   "metadata": {},
   "outputs": [],
   "source": [
    "def mutar(g:Genoma) -> Genoma:\n",
    "    G = Genoma((g.x, g.y))\n",
    "    angle = rnd.uniform(0, 2*np.pi)\n",
    "    dist = rnd.uniform(0, 0.5)\n",
    "    G.x += dist*np.cos(angle)\n",
    "    G.y += dist*np.sin(angle)\n",
    "    return G # o indivíduo pode sofre uma deflexão em suas coordenadas por um módulo de no máximo 0,5 em uma direção aleatória."
   ]
  },
  {
   "cell_type": "code",
   "execution_count": 1265,
   "metadata": {},
   "outputs": [],
   "source": [
    "# esta função selecionará um par de genomas, dando maior prioridade de escolha àqueles com o menor valor da função objetivo.\n",
    "def selec_par_melhores(func: Callable[[Genoma], float], pop: list[Genoma]) -> list[Genoma]:\n",
    "    weights = [func(indv) for indv in pop] # calcula a funcao objetivo para os genomas\n",
    "    M = max(weights)\n",
    "    m = min(weights)\n",
    "    if m == M:\n",
    "        return [pop[0], pop[-1]]\n",
    "    weights = list(map(lambda x: (M - x)/(M - m), weights)) # mapeia os valores da função objetivo\n",
    "    # para pesos, sendo o maior valor da func sendo 0 e o menor sendo 1, já que queremos que genomas com valores menores da func\n",
    "    # tenham pesos maiores.\n",
    "    return rnd.choices(population=pop,  # seleciona 2 indivíduos da população\n",
    "                       weights=weights, # pesados pelo seu score\n",
    "                       k=2)\n",
    "\n",
    "# esta função selecionará um par de genomas, dando maior prioridade de escolha àqueles com o maior ou menor valor da função objetivo.\n",
    "# Isto é uma tentativa de procurar direções alternativas.\n",
    "def selec_par_extremos(func: Callable[[Genoma], float], pop: list[Genoma]) -> list[Genoma]:\n",
    "    weights = [func(indv) for indv in pop] # calcula a funcao objetivo para os genomas\n",
    "    M = max(weights)\n",
    "    m = min(weights)\n",
    "    if m == M:\n",
    "        return [pop[0], pop[-1]]\n",
    "    weights = list(map(lambda x: (((2*x - M - m)*(2*x - M - m))/((M - m)*(M - m))), weights)) # mapeia os valores da função objetivo\n",
    "    # de maneira parabólica, sendo o maior valor da func sendo 1, o menor sendo 1, e os intermediários mais próximos de 0.\n",
    "    return rnd.choices(population=pop,  # seleciona 2 indivíduos da população\n",
    "                       weights=weights, # pesados pelo seu score\n",
    "                       k=2)"
   ]
  },
  {
   "cell_type": "code",
   "execution_count": 1266,
   "metadata": {},
   "outputs": [],
   "source": [
    "def func_objetivo(g:Genoma) -> float:\n",
    "    return g.x*g.x - 2*g.x*g.y + 6*g.x + g.y*g.y - 6*g.y"
   ]
  },
  {
   "cell_type": "code",
   "execution_count": 1267,
   "metadata": {},
   "outputs": [],
   "source": [
    "def alg_genetico(\n",
    "\t\tgeradora_de_pop: Callable[[int, tuple[float, float], tuple[float, float]], list[Genoma]],\n",
    "\t\tn_indv:          int,\n",
    "\t\ttaxa_mut:        float,\n",
    "\t\ttaxa_cruz:       float,\n",
    "\t\tn_elite:         int,\n",
    "\t\tx_space:         tuple[float, float],\n",
    "\t\ty_space:         tuple[float, float],\n",
    "\t\tfunc_obj:        Callable[[Genoma], float],\n",
    "\t\ttol:             float,\n",
    "\t\tfunc_selecao:    Callable[[Callable[[Genoma], float], list[Genoma]], list[Genoma]],\n",
    "\t\tfunc_cruzamento: Callable[[Genoma, Genoma], tuple[Genoma, Genoma]],\n",
    "\t\tfunc_mutacao:    Callable[[Genoma], Genoma],\n",
    "\t\tmax_iter:        int\n",
    ") -> tuple[list[Genoma], int]:\n",
    "\t\n",
    "\tpop = geradora_de_pop(n_indv, x_space, y_space) # gerar uma população inicial\n",
    "\tpop = sorted(pop, key=lambda g: func_obj(g)) # ordenar os genomas para que aqueles com o menor valor de funcao objetivo apareçam primeiro\n",
    "\tprev_best = sum([func_obj(indv) for indv in pop]) + tol + tol # impedir que o algoritmo convirja na primeira iteração\n",
    "\n",
    "\tfor i in range(max_iter):\n",
    "\n",
    "\t\tif abs(prev_best - sum([func_obj(indv) for indv in pop])) <= tol: # se a diferença entre 2 iterações seguidas for melhor que uma tolerância, parar o algoritmo.\n",
    "\t\t\treturn (pop, i)\n",
    "\t\t\n",
    "\t\tprev_best = sum([func_obj(indv) for indv in pop])\n",
    "\t\tprox_pop = pop[:n_elite] # incluir a elite inalterada na proxima geração\n",
    "\n",
    "\t\tfor j in range((len(pop) - n_elite + 1) // 2):\n",
    "\t\t\tpais = func_selecao(func_obj, pop) # selecionar dois individuos\n",
    "\n",
    "\t\t\tprob = rnd.uniform(0, 1)\n",
    "\t\t\tif prob <= taxa_cruz: # se o numero aleatorio for maior que a taxa de cruzamento, cruzar.\n",
    "\t\t\t\tpais[0], pais[1] = func_cruzamento(pais[0], pais[1])\n",
    "\n",
    "\t\t\t# para cada resultante, verificar se teremos mutação.\n",
    "\t\t\tprob = rnd.uniform(0, 1)\n",
    "\t\t\tif prob <= taxa_mut:\n",
    "\t\t\t\tpais[0] = func_mutacao(pais[0])\n",
    "\t\t\tprob = rnd.uniform(0, 1)\n",
    "\t\t\tif prob <= taxa_mut:\n",
    "\t\t\t\tpais[1] = func_mutacao(pais[1])\n",
    "\t\t\t\n",
    "\t\t\tprox_pop += pais # adicionar os novos indvíduos à nova população\n",
    "\t\t\n",
    "\t\tif (len(pop) - n_elite) % 2 != 0: # para o caso de o número de indivíduos que devemos gerar não ser divisível por 2, eliminar o último\n",
    "\t\t\tprox_pop = prox_pop[:-1]      # já que estaremos gerando 1 a mais do que o necessário neste caso.\n",
    "\t\t\n",
    "\t\tpop = prox_pop\n",
    "\t\tpop = sorted(pop, key=lambda g: func_obj(g))\n",
    "\n",
    "\treturn (pop, max_iter)"
   ]
  },
  {
   "cell_type": "code",
   "execution_count": 1282,
   "metadata": {},
   "outputs": [
    {
     "name": "stdout",
     "output_type": "stream",
     "text": [
      "n_iter: 65\n",
      "-5.232338091602282 -2.2326677873109055 f: -8.999999891300739\n",
      "-4.6878038373626625 -1.6882160218509643 f: -8.999999830103949\n",
      "-4.746068502898788 -1.8027847801297796 f: -8.996783263897058\n",
      "-5.260989579673138 -2.1951150763315064 f: -8.995660549809493\n",
      "-5.131791153936987 -2.0454426064093862 f: -8.992543928339874\n",
      "-4.769718688211999 -1.864806935374417 f: -8.990958225251578\n",
      "-4.734462905498619 -1.8382102876875674 f: -8.989236480688938\n",
      "-4.959526586288786 -1.8458793131798925 f: -8.987084297314917\n",
      "-4.5585221328678065 -1.8044591503510017 f: -8.939514983431469\n",
      "-5.1105031260700455 -1.3459219435844203 f: -8.415415615388882\n"
     ]
    }
   ],
   "source": [
    "pop, n_iter = alg_genetico(\n",
    "    gerar_populacao,\n",
    "    10,\n",
    "    0.7,\n",
    "    0.7,\n",
    "    2,\n",
    "    (-10, 10),\n",
    "    (-10, 10),\n",
    "    func_objetivo,\n",
    "    0.01,\n",
    "    selec_par_extremos,\n",
    "    cruz_aprox,\n",
    "    mutar,\n",
    "    100\n",
    ")\n",
    "\n",
    "print(\"n_iter:\", n_iter)\n",
    "for indv in pop:\n",
    "    print(indv.x, indv.y, \"f:\", func_objetivo(indv))"
   ]
  }
 ],
 "metadata": {
  "kernelspec": {
   "display_name": "Python 3",
   "language": "python",
   "name": "python3"
  },
  "language_info": {
   "codemirror_mode": {
    "name": "ipython",
    "version": 3
   },
   "file_extension": ".py",
   "mimetype": "text/x-python",
   "name": "python",
   "nbconvert_exporter": "python",
   "pygments_lexer": "ipython3",
   "version": "3.11.4"
  }
 },
 "nbformat": 4,
 "nbformat_minor": 2
}
