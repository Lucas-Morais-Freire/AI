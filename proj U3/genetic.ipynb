{
 "cells": [
  {
   "cell_type": "code",
   "execution_count": 315,
   "metadata": {},
   "outputs": [],
   "source": [
    "import random as rnd\n",
    "import numpy as np\n",
    "from typing import Callable\n",
    "import xlsxwriter as xw"
   ]
  },
  {
   "cell_type": "code",
   "execution_count": 316,
   "metadata": {},
   "outputs": [],
   "source": [
    "class Item:\n",
    "    def __init__(self, peso, volume, nome):\n",
    "        self.peso = peso\n",
    "        self.volume = volume\n",
    "        self.nome = nome"
   ]
  },
  {
   "cell_type": "code",
   "execution_count": 317,
   "metadata": {},
   "outputs": [],
   "source": [
    "# definição do material genético. Os genes são sequências de 0s ou 1s representando se o item está na bagagem ou não\n",
    "class Genoma:\n",
    "    def __init__(self, pertinencia:list[int]):\n",
    "        self.gene = pertinencia"
   ]
  },
  {
   "cell_type": "code",
   "execution_count": 318,
   "metadata": {},
   "outputs": [],
   "source": [
    "# gero uma população com \"n\" indivíduos aleatórios no espaço x_space[0] <= x< <= x_space[1] e y_space[0] <= y <= y_space[1]\n",
    "def gerar_populacao(n:int, coisas:list[Item]) -> list[Genoma]:\n",
    "    return [Genoma(\n",
    "        [rnd.randint(0,1) for _ in range(len(coisas))] # lista com a quantidade de bits igual a quantidade de coisas.\n",
    "    ) for _ in range(n)]                               # a quantidade de genes é especificada por n."
   ]
  },
  {
   "cell_type": "code",
   "execution_count": 319,
   "metadata": {},
   "outputs": [],
   "source": [
    "def cruz_troca(g1:Genoma, g2:Genoma) -> tuple[Genoma,Genoma]:\n",
    "    length = len(g1.gene)\n",
    "    if length < 2:\n",
    "        return g1, g2\n",
    "\n",
    "    p = rnd.randint(1, length - 1)\n",
    "    return Genoma(g1.gene[0:p] + g2.gene[p:]), Genoma(g2.gene[0:p] + g1.gene[p:])"
   ]
  },
  {
   "cell_type": "code",
   "execution_count": 320,
   "metadata": {},
   "outputs": [],
   "source": [
    "def mutar(g:Genoma) -> Genoma:\n",
    "    G = Genoma(g.gene)\n",
    "    for _ in range(int(0.2*len(G.gene))):\n",
    "        index = rnd.randrange(len(G.gene))\n",
    "        G.gene[index] = abs(G.gene[index] - 1)\n",
    "    return G"
   ]
  },
  {
   "cell_type": "code",
   "execution_count": 321,
   "metadata": {},
   "outputs": [],
   "source": [
    "# esta função selecionará um par de genomas, dando maior prioridade de escolha àqueles com o menor valor da função objetivo.\n",
    "def selec_par_melhores(func: Callable[[Genoma, float, float, list[Item]], float], pop: list[Genoma], peso_max:float, vol_max:float, coisas:list[Item]) -> list[Genoma]:\n",
    "    weights = [func(indv, peso_max, vol_max, coisas) for indv in pop] # calcula a funcao objetivo para os genomas\n",
    "    M = max(weights)\n",
    "    m = min(weights)\n",
    "    if m == M:\n",
    "        return [pop[0], pop[-1]]\n",
    "    weights = list(map(lambda x: (M - x)/(M - m), weights)) # mapeia os valores da função objetivo\n",
    "    # para pesos, sendo o maior valor da func sendo 0 e o menor sendo 1, já que queremos que genomas com valores menores da func\n",
    "    # tenham pesos maiores.\n",
    "    return rnd.choices(population=pop,  # seleciona 2 indivíduos da população\n",
    "                       weights=weights, # pesados pelo seu score\n",
    "                       k=2)"
   ]
  },
  {
   "cell_type": "code",
   "execution_count": 322,
   "metadata": {},
   "outputs": [],
   "source": [
    "def func_objetivo(g:Genoma, peso_max:float, vol_max:float, coisas:list[Item]) -> float:\n",
    "    peso = 0\n",
    "    vol = 0\n",
    "    for i, item in enumerate(coisas):\n",
    "        peso += item.peso if g.gene[i] == 1 else 0\n",
    "        vol += item.volume if g.gene[i] == 1 else 0\n",
    "    if peso > peso_max or vol > vol_max:\n",
    "        return peso_max + vol_max\n",
    "    else:\n",
    "        return peso_max + vol_max - peso - vol"
   ]
  },
  {
   "cell_type": "code",
   "execution_count": 323,
   "metadata": {},
   "outputs": [],
   "source": [
    "def alg_genetico(\n",
    "\t\tgeradora_de_pop: Callable[[int, list[Item]], list[Genoma]],\n",
    "\t\tn_indv:          int,\n",
    "\t\ttaxa_mut:        float,\n",
    "\t\ttaxa_cruz:       float,\n",
    "\t\tn_elite:         int,\n",
    "\t\tcoisas:          list[Item],\n",
    "\t\tpeso_max:        float,\n",
    "\t\tvol_max:         float,\n",
    "\t\tfunc_obj:        Callable[[Genoma, float, float, list[Item]], float],\n",
    "\t\ttol:             float,\n",
    "\t\tfunc_selecao:    Callable[[ Callable[[Genoma, float, float, list[Item]], float], list[Genoma], float, float, list[Item]], list[Genoma]],\n",
    "\t\tfunc_cruzamento: Callable[[Genoma, Genoma], tuple[Genoma, Genoma]],\n",
    "\t\tfunc_mutacao:    Callable[[Genoma], Genoma],\n",
    "\t\tmax_iter:        int\n",
    ") -> tuple[list[Genoma], int]:\n",
    "\t\n",
    "\tpop = geradora_de_pop(n_indv, coisas) # gerar uma população inicial\n",
    "\tpop = sorted(pop, key=lambda g: func_obj(g, peso_max, vol_max, coisas)) # ordenar os genomas para que aqueles com o menor valor de funcao objetivo apareçam primeiro\n",
    "\tprev_best = sum([func_obj(indv, peso_max, vol_max, coisas) for indv in pop]) + tol + tol # impedir que o algoritmo convirja na primeira iteração\n",
    "\n",
    "\tfor i in range(max_iter):\n",
    "\t\tif abs(prev_best - sum([func_obj(indv, peso_max, vol_max, coisas) for indv in pop])) <= tol: # se a diferença entre 2 iterações seguidas for melhor que uma tolerância, parar o algoritmo.\n",
    "\t\t\treturn (pop, i)\n",
    "\t\t\n",
    "\t\tprev_best = sum([func_obj(indv, peso_max, vol_max, coisas) for indv in pop])\n",
    "\t\tprox_pop = pop[:n_elite] # incluir a elite inalterada na proxima geração\n",
    "\n",
    "\t\tfor j in range((len(pop) - n_elite + 1) // 2):\n",
    "\t\t\tpais = func_selecao(func_obj, pop, peso_max, vol_max, coisas) # selecionar dois individuos\n",
    "\n",
    "\t\t\tprob = rnd.uniform(0, 1)\n",
    "\t\t\tif prob <= taxa_cruz: # se o numero aleatorio for maior que a taxa de cruzamento, cruzar.\n",
    "\t\t\t\tpais[0], pais[1] = func_cruzamento(pais[0], pais[1])\n",
    "\n",
    "\t\t\t# para cada resultante, verificar se teremos mutação.\n",
    "\t\t\tprob = rnd.uniform(0, 1)\n",
    "\t\t\tif prob <= taxa_mut:\n",
    "\t\t\t\tpais[0] = func_mutacao(pais[0])\n",
    "\t\t\tprob = rnd.uniform(0, 1)\n",
    "\t\t\tif prob <= taxa_mut:\n",
    "\t\t\t\tpais[1] = func_mutacao(pais[1])\n",
    "\t\t\t\n",
    "\t\t\tprox_pop += pais # adicionar os novos indvíduos à nova população\n",
    "\t\t\n",
    "\t\tif (len(pop) - n_elite) % 2 != 0: # para o caso de o número de indivíduos que devemos gerar não ser divisível por 2, eliminar o último\n",
    "\t\t\tprox_pop = prox_pop[:-1]      # já que estaremos gerando 1 a mais do que o necessário neste caso.\n",
    "\t\t\n",
    "\t\tpop = prox_pop\n",
    "\t\tpop = sorted(pop, key=lambda g: func_obj(g, peso_max, vol_max, coisas))\n",
    "\n",
    "\treturn (pop, max_iter)"
   ]
  },
  {
   "cell_type": "markdown",
   "metadata": {},
   "source": [
    "### teste base"
   ]
  },
  {
   "cell_type": "code",
   "execution_count": 335,
   "metadata": {},
   "outputs": [
    {
     "name": "stdout",
     "output_type": "stream",
     "text": [
      "peso total: 11.25 volume_total: 12.75\n",
      "iter: 173\n",
      "peso total: 6 volume_total: 8 \n",
      "coisas:\n",
      "farinha\n",
      "camisas\n",
      "lençóis\n"
     ]
    }
   ],
   "source": [
    "coisas = [\n",
    "    Item(1, 1, \"farinha\"),\n",
    "    Item(0.5, 0.25, \"laptop\"),\n",
    "    Item(2, 3, \"camisas\"),\n",
    "    Item(3, 3, \"calças\"),\n",
    "    Item(3, 4, \"lençóis\"),\n",
    "    Item(0.25, 0.5, \"acessóris\"),\n",
    "    Item(1.5, 1, \"vinho\"),\n",
    "]\n",
    "\n",
    "peso_tot = 0\n",
    "vol_tot = 0\n",
    "for item in coisas:\n",
    "    peso_tot += item.peso\n",
    "    vol_tot += item.volume\n",
    "\n",
    "print(\"peso total:\", peso_tot, \"volume_total:\", vol_tot)\n",
    "\n",
    "peso_max = 6\n",
    "vol_max = 10\n",
    "\n",
    "pop, n_iter = alg_genetico(\n",
    "    gerar_populacao,\n",
    "    30,\n",
    "    0.7,\n",
    "    0.7,\n",
    "    1,\n",
    "    coisas,\n",
    "    peso_max,\n",
    "    vol_max,\n",
    "    func_objetivo,\n",
    "    0.01,\n",
    "    selec_par_melhores,\n",
    "    cruz_troca,\n",
    "    mutar,\n",
    "    1000\n",
    ")\n",
    "\n",
    "print(\"iter:\", n_iter)\n",
    "peso_tot = 0\n",
    "vol_tot = 0\n",
    "item_list = []\n",
    "for i, pert in enumerate(pop[0].gene):\n",
    "    if pert == 1:\n",
    "        item_list.append(coisas[i].nome)\n",
    "        peso_tot += coisas[i].peso\n",
    "        vol_tot += coisas[i].volume\n",
    "print(\"peso total:\", peso_tot, \"volume_total:\", vol_tot, \"\\ncoisas:\")\n",
    "for item in item_list:\n",
    "    print(item, sep=', ')"
   ]
  }
 ],
 "metadata": {
  "kernelspec": {
   "display_name": "Python 3",
   "language": "python",
   "name": "python3"
  },
  "language_info": {
   "codemirror_mode": {
    "name": "ipython",
    "version": 3
   },
   "file_extension": ".py",
   "mimetype": "text/x-python",
   "name": "python",
   "nbconvert_exporter": "python",
   "pygments_lexer": "ipython3",
   "version": "3.11.4"
  }
 },
 "nbformat": 4,
 "nbformat_minor": 2
}
