{
 "cells": [
  {
   "cell_type": "code",
   "execution_count": 1,
   "metadata": {},
   "outputs": [
    {
     "name": "stdout",
     "output_type": "stream",
     "text": [
      "Collecting scikit-fuzzy\n",
      "  Downloading scikit-fuzzy-0.4.2.tar.gz (993 kB)\n",
      "     ---------------------------------------- 0.0/994.0 kB ? eta -:--:--\n",
      "     - ------------------------------------- 30.7/994.0 kB 1.4 MB/s eta 0:00:01\n",
      "     -- ---------------------------------- 61.4/994.0 kB 656.4 kB/s eta 0:00:02\n",
      "     ---- ------------------------------- 112.6/994.0 kB 939.4 kB/s eta 0:00:01\n",
      "     ------- ------------------------------ 204.8/994.0 kB 1.1 MB/s eta 0:00:01\n",
      "     --------- ---------------------------- 256.0/994.0 kB 1.1 MB/s eta 0:00:01\n",
      "     ------------------- ------------------ 501.8/994.0 kB 1.9 MB/s eta 0:00:01\n",
      "     ---------------------------- --------- 737.3/994.0 kB 2.2 MB/s eta 0:00:01\n",
      "     -------------------------------------- 994.0/994.0 kB 2.7 MB/s eta 0:00:00\n",
      "  Installing build dependencies: started\n",
      "  Installing build dependencies: finished with status 'done'\n",
      "  Getting requirements to build wheel: started\n",
      "  Getting requirements to build wheel: finished with status 'done'\n",
      "  Preparing metadata (pyproject.toml): started\n",
      "  Preparing metadata (pyproject.toml): finished with status 'done'\n",
      "Requirement already satisfied: numpy>=1.6.0 in c:\\users\\lucas\\appdata\\local\\programs\\python\\python311\\lib\\site-packages (from scikit-fuzzy) (1.26.1)\n",
      "Requirement already satisfied: scipy>=0.9.0 in c:\\users\\lucas\\appdata\\local\\programs\\python\\python311\\lib\\site-packages (from scikit-fuzzy) (1.11.1)\n",
      "Requirement already satisfied: networkx>=1.9.0 in c:\\users\\lucas\\appdata\\local\\programs\\python\\python311\\lib\\site-packages (from scikit-fuzzy) (2.8.8)\n",
      "Building wheels for collected packages: scikit-fuzzy\n",
      "  Building wheel for scikit-fuzzy (pyproject.toml): started\n",
      "  Building wheel for scikit-fuzzy (pyproject.toml): finished with status 'done'\n",
      "  Created wheel for scikit-fuzzy: filename=scikit_fuzzy-0.4.2-py3-none-any.whl size=894085 sha256=76244d924de4d349739c57eac68a8e2a2de7f1669e845cea938e295b6e9368e1\n",
      "  Stored in directory: c:\\users\\lucas\\appdata\\local\\pip\\cache\\wheels\\b1\\67\\d1\\6c29aeb1cd2d36447ad5b0de027580b8894aff702a9b50041e\n",
      "Successfully built scikit-fuzzy\n",
      "Installing collected packages: scikit-fuzzy\n",
      "Successfully installed scikit-fuzzy-0.4.2\n",
      "Note: you may need to restart the kernel to use updated packages.\n"
     ]
    },
    {
     "name": "stderr",
     "output_type": "stream",
     "text": [
      "\n",
      "[notice] A new release of pip is available: 23.3 -> 23.3.1\n",
      "[notice] To update, run: python.exe -m pip install --upgrade pip\n"
     ]
    }
   ],
   "source": [
    "%pip install scikit-fuzzy"
   ]
  },
  {
   "cell_type": "code",
   "execution_count": 2,
   "metadata": {},
   "outputs": [],
   "source": [
    "import skfuzzy as fuzz\n",
    "from skfuzzy import control as ctrl\n",
    "import numpy as np"
   ]
  }
 ],
 "metadata": {
  "kernelspec": {
   "display_name": "Python 3",
   "language": "python",
   "name": "python3"
  },
  "language_info": {
   "codemirror_mode": {
    "name": "ipython",
    "version": 3
   },
   "file_extension": ".py",
   "mimetype": "text/x-python",
   "name": "python",
   "nbconvert_exporter": "python",
   "pygments_lexer": "ipython3",
   "version": "3.11.4"
  }
 },
 "nbformat": 4,
 "nbformat_minor": 2
}
